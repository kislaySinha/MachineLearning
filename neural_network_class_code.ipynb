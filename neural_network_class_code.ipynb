{
 "cells": [
  {
   "cell_type": "code",
   "execution_count": 1,
   "id": "63b4573a",
   "metadata": {},
   "outputs": [],
   "source": [
    "import numpy as np\n",
    "import matplotlib.pyplot as plt\n"
   ]
  },
  {
   "cell_type": "code",
   "execution_count": null,
   "id": "41669e0d",
   "metadata": {},
   "outputs": [],
   "source": [
    "class NeuralNetwork:\n",
    "    #1 hidden layer\n",
    "    def __init__(self, input_size, hidden_size, learning_rate=0.01):\n",
    "        self.input_size =input_size\n",
    "        self.hidden_size=hidden_size\n",
    "        self.learning_rate=learning_rate\n",
    "\n",
    "        #initialize random weights and biases\n",
    "        self.w1 = np.random.randn(self.input_size, self.hidden_size)*0.5\n",
    "        self.b1 = np.zeros(1, self.hidden_size)\n",
    "\n",
    "        self.w2 = np.random.randn(self.hidden_size,1)*0.5\n",
    "        self.b2 = np.zeros(1,1)\n",
    "\n",
    "    def sigmoid(self,X):\n",
    "        x=np.clip(X,-500,500)\n",
    "        return 1 / (1+np.exp(-X))\n",
    "    \n",
    "    def sigmoid_derivative(self,X):\n",
    "        return X*(1-X)\n",
    "    \n",
    "    def forward(self,X):\n",
    "        # z1 = w1 @ x + b1\n",
    "        # a1 = sigmoid on output of z1\n",
    "        #z2 = w2 @ a1 + b2\n",
    "        #a2 = sigmoid on output of z2\n",
    "\n",
    "        self.z1 =  X @ self.w1 + self.b1\n",
    "        self.a1 = self.sigmoid(self.z1)\n",
    "\n",
    "        self.z2 = self.a1 @ self.w2 + self.b2\n",
    "        self.a2 = self.sigmoid(self.z2)\n",
    "        return self.a1,self.a2\n",
    "    \n",
    "    def backward(self,X,y,output):\n",
    "        #loss at output layer = true - pred\n",
    "        output_error = y - output\n",
    "\n",
    "    def train(self, X, y, epochs=10000):\n",
    "        losses=[]\n",
    "        for epoch in range(epochs):\n",
    "\n",
    "    def predict(self, X):\n"
   ]
  }
 ],
 "metadata": {
  "kernelspec": {
   "display_name": ".venv",
   "language": "python",
   "name": "python3"
  },
  "language_info": {
   "codemirror_mode": {
    "name": "ipython",
    "version": 3
   },
   "file_extension": ".py",
   "mimetype": "text/x-python",
   "name": "python",
   "nbconvert_exporter": "python",
   "pygments_lexer": "ipython3",
   "version": "3.12.3"
  }
 },
 "nbformat": 4,
 "nbformat_minor": 5
}
