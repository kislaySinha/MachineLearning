{
 "cells": [
  {
   "cell_type": "code",
   "execution_count": 11,
   "id": "b8cf84b1",
   "metadata": {},
   "outputs": [
    {
     "name": "stdout",
     "output_type": "stream",
     "text": [
      "hi\n",
      "Requirement already satisfied: scikit-learn in ./.venv/lib/python3.12/site-packages (1.7.1)\n",
      "Requirement already satisfied: numpy>=1.22.0 in ./.venv/lib/python3.12/site-packages (from scikit-learn) (2.3.2)\n",
      "Requirement already satisfied: scipy>=1.8.0 in ./.venv/lib/python3.12/site-packages (from scikit-learn) (1.16.1)\n",
      "Requirement already satisfied: joblib>=1.2.0 in ./.venv/lib/python3.12/site-packages (from scikit-learn) (1.5.1)\n",
      "Requirement already satisfied: threadpoolctl>=3.1.0 in ./.venv/lib/python3.12/site-packages (from scikit-learn) (3.6.0)\n",
      "Note: you may need to restart the kernel to use updated packages.\n"
     ]
    }
   ],
   "source": [
    "print(\"hi\")\n",
    "!pip install scikit-learn\n",
    "%pip install -q scikit-learn matplotlib pandas numpy\n"
   ]
  },
  {
   "cell_type": "code",
   "execution_count": 49,
   "id": "e5202a44",
   "metadata": {},
   "outputs": [],
   "source": [
    "import numpy as np\n",
    "import pandas as pd\n",
    "from sklearn.datasets import load_diabetes\n",
    "from sklearn.model_selection import train_test_split\n",
    "from sklearn.preprocessing import StandardScaler\n",
    "from sklearn.linear_model import LinearRegression\n",
    "from sklearn.datasets import fetch_openml"
   ]
  },
  {
   "cell_type": "code",
   "execution_count": 50,
   "id": "e372a165",
   "metadata": {},
   "outputs": [],
   "source": [
    "# Load dataset\n",
    "data = load_diabetes() # it is a regression problem, because we have to implement linear regression\n",
    "X = data.data  # shape (442, 10)\n",
    "y = data.target  # shape (442,)"
   ]
  },
  {
   "cell_type": "code",
   "execution_count": 51,
   "id": "76c2293b",
   "metadata": {},
   "outputs": [
    {
     "data": {
      "text/plain": [
       "array([151.,  75., 141., 206., 135.])"
      ]
     },
     "execution_count": 51,
     "metadata": {},
     "output_type": "execute_result"
    }
   ],
   "source": [
    "y[0:5]"
   ]
  },
  {
   "cell_type": "code",
   "execution_count": 52,
   "id": "79eacc82",
   "metadata": {},
   "outputs": [],
   "source": [
    "# Train-test split\n",
    "from sklearn.model_selection import train_test_split\n",
    "X_train, X_test, y_train, y_test = train_test_split(X, y, test_size=0.2, random_state=1)"
   ]
  },
  {
   "cell_type": "code",
   "execution_count": 53,
   "id": "7b3b39c1",
   "metadata": {},
   "outputs": [
    {
     "data": {
      "text/plain": [
       "array([104., 259., 143., 190., 104.])"
      ]
     },
     "execution_count": 53,
     "metadata": {},
     "output_type": "execute_result"
    }
   ],
   "source": [
    "y_train[0:5]"
   ]
  },
  {
   "cell_type": "code",
   "execution_count": 54,
   "id": "cd770eb1",
   "metadata": {},
   "outputs": [],
   "source": [
    "scaler = StandardScaler()\n",
    "\n",
    "X_train = scaler.fit_transform(X_train) \n",
    "X_test = scaler.transform(X_test)\n",
    "\n",
    "y_train = scaler.fit_transform(y_train.reshape(-1, 1)).flatten() \n",
    "y_test = scaler.transform(y_test.reshape(-1, 1)).flatten()"
   ]
  },
  {
   "cell_type": "code",
   "execution_count": 55,
   "id": "94ab7153",
   "metadata": {},
   "outputs": [],
   "source": [
    "# Initialize weights and bias\n",
    "n_features = X_train.shape[1] # number of features which is 10 in this case\n",
    "w = np.random.rand(n_features) # m = weights and c = bias [y = m1x1 + m2x2 + m3x3 + ... + m10x10  + c] <==> [y = w1x1 + w2x2 + ..+ w10x10 + b]\n",
    "b = 0"
   ]
  },
  {
   "cell_type": "code",
   "execution_count": 56,
   "id": "7c5a67df",
   "metadata": {},
   "outputs": [],
   "source": [
    "# Training hyperparameters\n",
    "learning_rate = 0.01 \n",
    "epochs = 5001"
   ]
  },
  {
   "cell_type": "code",
   "execution_count": 57,
   "id": "366c86fa",
   "metadata": {},
   "outputs": [
    {
     "name": "stdout",
     "output_type": "stream",
     "text": [
      "Epoch 0: MSE = 7.1710\n",
      "Epoch 1000: MSE = 0.4751\n",
      "Epoch 2000: MSE = 0.4687\n",
      "Epoch 3000: MSE = 0.4674\n",
      "Epoch 4000: MSE = 0.4670\n",
      "Epoch 5000: MSE = 0.4670\n"
     ]
    }
   ],
   "source": [
    "# Gradient Descent Training Loop\n",
    "for epoch in range(epochs): # epochs <==> iterations\n",
    "    # Predictions\n",
    "    y_pred = X_train.dot(w) + b # mx + c ==> y_pred\n",
    "\n",
    "    # Compute gradients\n",
    "    error = y_pred - y_train # residual or error \n",
    "    \n",
    "    dw = (1 / len(X_train)) * X_train.T.dot(error) # \n",
    "    db = (1 / len(X_train)) * np.sum(error)\n",
    "\n",
    "    # Update weights with update rule\n",
    "    w = w - learning_rate * dw\n",
    "    b = b - learning_rate * db\n",
    "\n",
    "    #print loss every 100 epochs\n",
    "    if epoch % 1000 == 0:\n",
    "        mse = np.mean(error ** 2)\n",
    "        print(f\"Epoch {epoch}: MSE = {mse:.4f}\")"
   ]
  },
  {
   "cell_type": "code",
   "execution_count": 58,
   "id": "761a382f",
   "metadata": {},
   "outputs": [
    {
     "data": {
      "text/plain": [
       "((10, 442), (442,))"
      ]
     },
     "execution_count": 58,
     "metadata": {},
     "output_type": "execute_result"
    }
   ],
   "source": [
    "X.T.shape, y.shape"
   ]
  },
  {
   "cell_type": "code",
   "execution_count": 59,
   "id": "5d198670",
   "metadata": {},
   "outputs": [],
   "source": [
    "# Evaluate on test set, multiply test data with the model parameters. \n",
    "def predict_func(X_test):\n",
    "    y_pred = X_test.dot(w) + b\n",
    "    \n",
    "\n",
    "y_pred_scaled = X_test.dot(w) + b\n",
    "y_pred = scaler.inverse_transform(y_pred_scaled.reshape(-1, 1)).flatten()\n",
    "\n",
    "test_mse = np.mean((y_pred - y_test) ** 2)"
   ]
  },
  {
   "cell_type": "code",
   "execution_count": 60,
   "id": "36244f23",
   "metadata": {},
   "outputs": [
    {
     "data": {
      "text/plain": [
       "np.float64(23099.56029590072)"
      ]
     },
     "execution_count": 60,
     "metadata": {},
     "output_type": "execute_result"
    }
   ],
   "source": [
    "test_mse"
   ]
  },
  {
   "cell_type": "code",
   "execution_count": 61,
   "id": "48ede6d1",
   "metadata": {},
   "outputs": [
    {
     "name": "stdout",
     "output_type": "stream",
     "text": [
      "RMSE: 151.99\n"
     ]
    }
   ],
   "source": [
    "rmse = np.sqrt(test_mse)\n",
    "print(f\"RMSE: {rmse:.2f}\")\n"
   ]
  },
  {
   "cell_type": "code",
   "execution_count": null,
   "id": "b26c6490",
   "metadata": {},
   "outputs": [],
   "source": []
  }
 ],
 "metadata": {
  "kernelspec": {
   "display_name": ".venv",
   "language": "python",
   "name": "python3"
  },
  "language_info": {
   "codemirror_mode": {
    "name": "ipython",
    "version": 3
   },
   "file_extension": ".py",
   "mimetype": "text/x-python",
   "name": "python",
   "nbconvert_exporter": "python",
   "pygments_lexer": "ipython3",
   "version": "3.12.3"
  }
 },
 "nbformat": 4,
 "nbformat_minor": 5
}
